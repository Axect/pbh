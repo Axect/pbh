{
 "cells": [
  {
   "cell_type": "markdown",
   "metadata": {},
   "source": [
    "<div style=\"text-align:center\"><h1>Running Coupling Constant</h1></div>\n",
    "<div style=\"text-align:right\"><b>Tae Geun Kim</b></div>\n",
    "*****\n",
    "* Caution : This is test version, so consider only 1-loop"
   ]
  },
  {
   "cell_type": "code",
   "execution_count": 1,
   "metadata": {
    "collapsed": true
   },
   "outputs": [],
   "source": [
    "from numba import jit"
   ]
  },
  {
   "cell_type": "code",
   "execution_count": 9,
   "metadata": {
    "collapsed": false
   },
   "outputs": [],
   "source": [
    "import numpy as np\n",
    "from math import sqrt, exp, log, log10, pi\n",
    "\n",
    "class RGE(object):\n",
    "        \n",
    "    def __init__(self, mt_init, xi_init, tstart):\n",
    "        self.t = tstart\n",
    "        self.mt = mt_init\n",
    "        self.xi = xi_init\n",
    "        self.Mp = 1.221*10**(19)\n",
    "        self.MpR = 2.4*10**(18) # Reduced Planck Mass\n",
    "        self.MW = 80.385\n",
    "        self.MZ = 91.1876\n",
    "        self.MH = 125.09\n",
    "        self.alphasMZ = 0.1182\n",
    "        self.lH = 0.12604 + 0.00206 * (self.MH - 125.15) - 0.00004 * (self.mt - 173.34)\n",
    "        self.yt = (\n",
    "            0.93690 + 0.00556 * (self.mt - 173.34) - 0.00003*(self.MH - 125.15) \n",
    "            - 0.00042*(self.alphasMZ - 0.1184) / 0.0007\n",
    "        )\n",
    "        self.g3 = 1.1666 + 0.00314 * (self.alphasMZ - 0.1184)/0.007 - 0.00046 * (self.mt - 173.34)\n",
    "        self.g2 = 0.64779 + 0.00004 * (self.mt - 173.34) + 0.00011 * (self.MW - 80.384) / 0.014\n",
    "        self.g1 = 0.35830 + 0.00011 * (self.mt - 173.34) - 0.00020 * (self.MW - 80.384) / 0.014\n",
    "    \n",
    "    def BETA(self):\n",
    "        # 1-Loop Beta Functions\n",
    "        self.h = sqrt(2)/self.yt * self.mt * exp(self.t)\n",
    "        self.sh = (\n",
    "            (1 + self.xi * self.h ** 2 / self.MpR**2)/(1+(1+6*self.xi)*self.xi*self.h**2/self.MpR**2)\n",
    "        )\n",
    "        self.Beta_lH1 = (\n",
    "            6*(1+3*self.sh**2)*self.lH**2 + 12*self.lH*self.yt**2 - 6*self.yt**4 - 3*self.lH*(3*self.g2**2 + self.g1**2)\n",
    "            + 3/8*(2*self.g2**4 + (self.g1**2 + self.g2**2)**2)\n",
    "        )\n",
    "        self.Beta_g11 = (81 + self.sh)/12 * self.g1**3\n",
    "        self.Beta_g21 = - (39 - self.sh) / 12 * self.g2 **3\n",
    "        self.Beta_g31 = -7*self.g3**3\n",
    "        self.Beta_yt1 = (\n",
    "            self.yt * ((23/6 + 2/3*self.sh)*self.yt**2 - (8*self.g3**2 + 9/4*self.g2**2 + 17/12 * self.g1**2))\n",
    "        )\n",
    "        self.gamma1 = -(9/4*self.g2**2 + 3/4*self.g1**2 - 3*self.yt**2)\n",
    "        self.Betas1 = [self.Beta_lH1, self.Beta_g11, self.Beta_g21, \n",
    "                       self.Beta_g31, self.Beta_yt1, self.gamma1]\n",
    "        # 2-Loop Beta Functions\n",
    "        self.Beta_lH2 = 0\n",
    "        self.Beta_g12 = 0\n",
    "        self.Beta_g22 = 0\n",
    "        self.Beta_g32 = 0\n",
    "        self.Beta_yt2 = 0\n",
    "        self.gamma2 = 0\n",
    "        self.Betas2 = [self.Beta_lH2, self.Beta_g12, self.Beta_g22, \n",
    "                       self.Beta_g32, self.Beta_yt2, self.gamma2]\n",
    "        # Total Beta Functions\n",
    "        self.Beta = np.zeros(len(self.Betas1))\n",
    "        for i, (beta1, beta2) in enumerate(zip(self.Betas1, self.Betas2)):\n",
    "            self.Beta[i] = 1/(16*pi**2)*beta1 + 1/(16*pi**2)**2*beta2\n",
    "        self.Beta_real = [beta/(1+self.Beta[5]) for beta in self.Beta]\n",
    "        \n",
    "    @jit   \n",
    "    def Running(self, h=1e-05):\n",
    "        # Running Coupling Constant\n",
    "        self.lH += h * self.Beta_real[0]\n",
    "        self.g1 += h * self.Beta_real[1]\n",
    "        self.g2 += h * self.Beta_real[2]\n",
    "        self.g3 += h * self.Beta_real[3]\n",
    "        self.yt += h * self.Beta_real[4]\n",
    "        self.t += h\n",
    "#-----------------------------------------------     \n",
    "def RCC(Mt, xi, Nend, h): # M_t, xi, End point, precision\n",
    "    # Real Running\n",
    "    A = RGE(Mt, xi, 0) # xi = 59\n",
    "    k = int(1/h * Nend)\n",
    "    lH, g1, g2, g3 = np.zeros(k),np.zeros(k),np.zeros(k),np.zeros(k)\n",
    "    yt, t = np.zeros(k), np.zeros(k)\n",
    "    for i in range(k):\n",
    "        A.BETA()\n",
    "        lH[i] = A.lH\n",
    "        g1[i] = A.g1\n",
    "        g2[i] = A.g2\n",
    "        g3[i] = A.g3\n",
    "        yt[i] = A.yt\n",
    "        t[i] = A.t\n",
    "        A.Running(h)\n",
    "    return (lH, g1, g2, g3, yt, t)"
   ]
  },
  {
   "cell_type": "code",
   "execution_count": 10,
   "metadata": {
    "collapsed": false
   },
   "outputs": [
    {
     "name": "stdout",
     "output_type": "stream",
     "text": [
      "1 loop, best of 3: 35.5 s per loop\n"
     ]
    }
   ],
   "source": [
    "%%timeit \n",
    "RCC(170, 50, 10, 1e-05)"
   ]
  },
  {
   "cell_type": "code",
   "execution_count": null,
   "metadata": {
    "collapsed": true
   },
   "outputs": [],
   "source": [
    "lH = Temp[0]\n",
    "g1 = Temp[1]\n",
    "g2 = Temp[2]\n",
    "g3 = Temp[3]\n",
    "yt = Temp[4]\n",
    "t = Temp[5]"
   ]
  }
 ],
 "metadata": {
  "kernelspec": {
   "display_name": "Python 3",
   "language": "python",
   "name": "python3"
  },
  "language_info": {
   "codemirror_mode": {
    "name": "ipython",
    "version": 3
   },
   "file_extension": ".py",
   "mimetype": "text/x-python",
   "name": "python",
   "nbconvert_exporter": "python",
   "pygments_lexer": "ipython3",
   "version": "3.6.0"
  }
 },
 "nbformat": 4,
 "nbformat_minor": 2
}
