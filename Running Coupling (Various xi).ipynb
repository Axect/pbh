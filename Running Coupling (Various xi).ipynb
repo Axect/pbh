{
 "cells": [
  {
   "cell_type": "markdown",
   "metadata": {},
   "source": [
    "<div style=\"text-align:center\"><h1>Running Coupling Constant</h1></div>\n",
    "<h2 style=\"text-align:center\">-Various $\\xi$</h2>\n",
    "<div style=\"text-align:right\"><b>Tae Geun Kim</b></div>\n",
    "*****"
   ]
  },
  {
   "cell_type": "markdown",
   "metadata": {},
   "source": [
    "## 1. Main Code"
   ]
  },
  {
   "cell_type": "code",
   "execution_count": 1,
   "metadata": {
    "collapsed": false
   },
   "outputs": [
    {
     "data": {
      "text/html": [
       "<script>\n",
       "code_show=true; \n",
       "function code_toggle() {\n",
       " if (code_show){\n",
       " $('div.input').hide();\n",
       " } else {\n",
       " $('div.input').show();\n",
       " }\n",
       " code_show = !code_show\n",
       "} \n",
       "$( document ).ready(code_toggle);\n",
       "</script>\n",
       "<form action=\"javascript:code_toggle()\"><input type=\"submit\" value=\"Click here to toggle on/off the raw code.\"></form>"
      ],
      "text/plain": [
       "<IPython.core.display.HTML object>"
      ]
     },
     "execution_count": 1,
     "metadata": {},
     "output_type": "execute_result"
    }
   ],
   "source": [
    "from IPython.display import HTML\n",
    "\n",
    "HTML('''<script>\n",
    "code_show=true; \n",
    "function code_toggle() {\n",
    " if (code_show){\n",
    " $('div.input').hide();\n",
    " } else {\n",
    " $('div.input').show();\n",
    " }\n",
    " code_show = !code_show\n",
    "} \n",
    "$( document ).ready(code_toggle);\n",
    "</script>\n",
    "<form action=\"javascript:code_toggle()\"><input type=\"submit\" value=\"Click here to toggle on/off the raw code.\"></form>''')"
   ]
  },
  {
   "cell_type": "code",
   "execution_count": 2,
   "metadata": {
    "collapsed": true
   },
   "outputs": [],
   "source": [
    "%load_ext Cython"
   ]
  },
  {
   "cell_type": "code",
   "execution_count": 3,
   "metadata": {
    "collapsed": true
   },
   "outputs": [],
   "source": [
    "import numpy as np\n",
    "import matplotlib.pyplot as plt\n",
    "import seaborn"
   ]
  },
  {
   "cell_type": "code",
   "execution_count": 4,
   "metadata": {
    "collapsed": false
   },
   "outputs": [],
   "source": [
    "%%cython\n",
    "import numpy as np\n",
    "cimport numpy as np\n",
    "from math import sqrt, exp, log, log10, pi\n",
    "\n",
    "cdef class RGE:\n",
    "    cdef public object t, mt, xi, Mp, MpR, MW, MZ, MH, alphasMZ, lH, yt, g1, g2, g3\n",
    "    cdef object h, sh, Beta_lH1, Beta_g11, Beta_g21, Beta_g31, Beta_yt1, gamma1\n",
    "    cdef object Beta_lH2, Beta_g12, Beta_g22, Beta_g32, Beta_yt2, gamma2, Betas1, Betas2\n",
    "    cdef object Beta, Beta_real\n",
    "    \n",
    "    def __init__(self, mt_init, xi_init, tstart):\n",
    "        self.t = tstart\n",
    "        self.mt = mt_init\n",
    "        self.xi = xi_init\n",
    "        self.Mp = 1.221*10**(19)\n",
    "        self.MpR = 2.4*10**(18) # Reduced Planck Mass\n",
    "        self.MW = 80.385\n",
    "        self.MZ = 91.1876\n",
    "        self.MH = 125.09\n",
    "        self.alphasMZ = 0.1182\n",
    "        self.lH = 0.12604 + 0.00206 * (self.MH - 125.15) - 0.00004 * (self.mt - 173.34)\n",
    "        self.yt = (\n",
    "            0.93690 + 0.00556 * (self.mt - 173.34) - 0.00003*(self.MH - 125.15) \n",
    "            - 0.00042*(self.alphasMZ - 0.1184) / 0.0007\n",
    "        )\n",
    "        self.g3 = 1.1666 + 0.00314 * (self.alphasMZ - 0.1184)/0.007 - 0.00046 * (self.mt - 173.34)\n",
    "        self.g2 = 0.64779 + 0.00004 * (self.mt - 173.34) + 0.00011 * (self.MW - 80.384) / 0.014\n",
    "        self.g1 = 0.35830 + 0.00011 * (self.mt - 173.34) - 0.00020 * (self.MW - 80.384) / 0.014\n",
    "               \n",
    "    def BETA(self):\n",
    "        # 1-Loop Beta Functions\n",
    "        self.h = sqrt(2)/self.yt * self.mt * exp(self.t)\n",
    "        self.sh = (\n",
    "            (1 + self.xi * self.h ** 2 / self.MpR**2)/(1+(1+6*self.xi)*self.xi*self.h**2/self.MpR**2)\n",
    "        )\n",
    "        self.Beta_lH1 = (\n",
    "            6*(1+3*self.sh**2)*self.lH**2 + 12*self.lH*self.yt**2 - 6*self.yt**4 - 3*self.lH*(3*self.g2**2 + self.g1**2)\n",
    "            + 3/8*(2*self.g2**4 + (self.g1**2 + self.g2**2)**2)\n",
    "        )\n",
    "        self.Beta_g11 = (81 + self.sh)/12 * self.g1**3\n",
    "        self.Beta_g21 = - (39 - self.sh) / 12 * self.g2 **3\n",
    "        self.Beta_g31 = -7*self.g3**3\n",
    "        self.Beta_yt1 = (\n",
    "            self.yt * ((23/6 + 2/3*self.sh)*self.yt**2 - (8*self.g3**2 + 9/4*self.g2**2 + 17/12 * self.g1**2))\n",
    "        )\n",
    "        self.gamma1 = -(9/4*self.g2**2 + 3/4*self.g1**2 - 3*self.yt**2)\n",
    "        self.Betas1 = [self.Beta_lH1, self.Beta_g11, self.Beta_g21, \n",
    "                       self.Beta_g31, self.Beta_yt1, self.gamma1]\n",
    "        # 2-Loop Beta Functions\n",
    "        self.Beta_lH2 = (\n",
    "            1/48*((912+3*self.sh)*self.g2**6 - (290-self.sh)*self.g1**2*self.g2**4 \n",
    "                  - (560-self.sh) * self.g1**4*self.g2**2 - (380-self.sh)*self.g1**6)\n",
    "            + (38-8*self.sh)*self.yt**6 - self.yt**4 * (8/3*self.g1**2 + 32*self.g3**2 + (12-117*self.sh+108*self.sh**2)*self.lH)\n",
    "            + self.lH * (-1/8*(181 + 54*self.sh - self.sh**2)*self.g2**4\n",
    "                        + 1/4*(3-18*self.sh + 54*self.sh**2)*self.g1**2*self.g2**2 + 1/24*(90+377*self.sh+162*self.sh**2)*self.g1**4\n",
    "                        + (27+54*self.sh+27*self.sh**2)*self.g2**2*self.lH + (9+18*self.sh+9*self.sh**2)*self.g1**2*self.lH\n",
    "                        - (48+288*self.sh - 324*self.sh**2 + 624*self.sh**3 - 324*self.sh**4)*self.lH**2)\n",
    "            + self.yt**2*(-9/4*self.g2**4 + 21/2*self.g1**2*self.g2**2 - 19/4*self.g1**4\n",
    "                         + self.lH*(45/2*self.g2**2 + 85/6*self.g1**2 + 80*self.g3**2 - (36+108*self.sh**2)*self.lH))\n",
    "        )\n",
    "        self.Beta_g12 = (\n",
    "            199/18 * self.g1**5 + 9/2 * self.g1**3*self.g2**2 + 44/3*self.g1**3*self.g3**2\n",
    "            - 17/6 * self.sh * self.g1**3 * self.yt**2\n",
    "        )\n",
    "        self.Beta_g22 = (\n",
    "            3/2 * self.g1**2 * self.g2**3 + 35/6*self.g2**5 + 12*self.g2**3*self.g3**2\n",
    "            - 3/2 * self.sh * self.g2**3 * self.yt**2\n",
    "        )\n",
    "        self.Beta_g32 = (\n",
    "            11/6 * self.g1**2 * self.g3**3 + 9/2*self.g2**2*self.g3**3 - 26*self.g3**5\n",
    "            - 2 * self.sh * self.g3**3 * self.yt**2\n",
    "        )\n",
    "        self.Beta_yt2 = (\n",
    "            self.yt * (-23/4 * self.g2**4 - 3/4 * self.g1**2 * self.g2**2 + 1187/216*self.g1**4\n",
    "                      + 9*self.g2**2*self.g3**2 + 19/9*self.g1**2*self.g3**2 - 108*self.g3**4\n",
    "                      + (225/16*self.g2**2 + 131/16*self.g1**2 + 36*self.g3**2)*self.sh*self.yt**2\n",
    "                      + 6*(-2*self.sh**2*self.yt**4 - 2*self.sh**3*self.yt**2*self.lH + self.sh**2*self.lH**2)\n",
    "                      )\n",
    "        )\n",
    "        self.gamma2 = (\n",
    "            -(271/32 * self.g2**4 - 9/16 * self.g1**2 * self.g2**2 - 431/96 * self.sh * self.g1**4\n",
    "             - 5/2 * (9/4 * self.g2**2 + 17/12 * self.g1**2 + 8*self.g3**2) * self.yt**2 + 27/4 * self.sh*self.yt**4\n",
    "             - 6 * self.sh**3 * self.lH**2)\n",
    "        )\n",
    "        self.Betas2 = [self.Beta_lH2, self.Beta_g12, self.Beta_g22, \n",
    "                       self.Beta_g32, self.Beta_yt2, self.gamma2]\n",
    "        # Total Beta Functions\n",
    "        self.Beta = np.zeros(len(self.Betas1))\n",
    "        for i, (beta1, beta2) in enumerate(zip(self.Betas1, self.Betas2)):\n",
    "            self.Beta[i] = 1/(16*pi**2)*beta1 + 1/(16*pi**2)**2*beta2\n",
    "        self.Beta_real = [beta/(1+self.Beta[5]) for beta in self.Beta]\n",
    "        \n",
    "    def Running(self, double h):\n",
    "        # Running Coupling Constant\n",
    "        self.lH += h * self.Beta_real[0]\n",
    "        self.g1 += h * self.Beta_real[1]\n",
    "        self.g2 += h * self.Beta_real[2]\n",
    "        self.g3 += h * self.Beta_real[3]\n",
    "        self.yt += h * self.Beta_real[4]\n",
    "        self.t += h\n",
    "#-----------------------------------------------\n",
    "def RCC(double Mt, double xi, int Nend, double h): # M_t, xi, End point, precision\n",
    "    # Real Running\n",
    "    cdef int i, k\n",
    "    A = RGE(Mt, xi, 0)\n",
    "    k = int(1/h * Nend)\n",
    "    cdef np.ndarray[dtype=double, ndim=1] lH, yt, t, g1, g2, g3\n",
    "    lH = np.empty(k)\n",
    "    yt = np.empty(k)\n",
    "    t = np.empty(k)\n",
    "    g1 = np.empty(k)\n",
    "    g2 = np.empty(k)\n",
    "    g3 = np.empty(k)\n",
    "    for i in range(k):\n",
    "        A.BETA() # initialize by calling BETA\n",
    "        lH[i] = A.lH\n",
    "        g1[i] = A.g1\n",
    "        g2[i] = A.g2\n",
    "        g3[i] = A.g3\n",
    "        yt[i] = A.yt\n",
    "        t[i] = A.t\n",
    "        A.Running(h)\n",
    "    return (lH, g1, g2, g3, yt, t)"
   ]
  },
  {
   "cell_type": "markdown",
   "metadata": {},
   "source": [
    "## 2. Test "
   ]
  },
  {
   "cell_type": "markdown",
   "metadata": {},
   "source": [
    "### 1) Code Running"
   ]
  },
  {
   "cell_type": "code",
   "execution_count": null,
   "metadata": {
    "collapsed": false
   },
   "outputs": [],
   "source": [
    "#mt_keys = np.arange(170.851, 170.86, 0.001)\n",
    "#xi_keys = np.arange(10, 100, 10)\n",
    "#for mt in mt_keys:\n",
    "#    for xi in xi_keys:\n",
    "#        locals()['Temp_'+str(mt)+'_'+str(xi)] = RCC(mt, xi, 40, 1e-05)\n",
    "#        wrt_temp = open(str(mt)+'_'+str(xi)+'_lamb.csv', 'w')\n",
    "#        for k, obj in enumerate(locals()['Temp_'+str(mt)+'_'+str(xi)]):\n",
    "#            for i, elem in enumerate(obj):\n",
    "#                if i < len(obj):\n",
    "#                    wrt_temp.write(str(elem)+',')\n",
    "#                else:\n",
    "#                    wrt_temp.write(str(elem))\n",
    "#            wrt_temp.write('\\n')\n",
    "#        wrt_temp.close()"
   ]
  },
  {
   "cell_type": "markdown",
   "metadata": {},
   "source": [
    "### 2) Save List "
   ]
  },
  {
   "cell_type": "code",
   "execution_count": 8,
   "metadata": {
    "collapsed": false
   },
   "outputs": [],
   "source": [
    "# Save\n",
    "#wrt_temp = open('17000_59_lamb.csv', 'w')\n",
    "#for k, obj in enumerate(Temp):\n",
    "#    for i, elem in enumerate(obj):\n",
    "#        if i < len(obj):\n",
    "#            wrt_temp.write(str(elem)+',')\n",
    "#        else:\n",
    "#            wrt_temp.write(str(elem))\n",
    "#    wrt_temp.write('\\n')\n",
    "#wrt_temp.close()\n",
    "\n",
    "#Save2\n",
    "#wrt_temp2 = open('17085_59_lamb.csv', 'w')\n",
    "#for k, obj in enumerate(Temp2):\n",
    "#    for i, elem in enumerate(obj):\n",
    "#        if i < len(obj):\n",
    "#            wrt_temp2.write(str(elem)+',')\n",
    "#        else:\n",
    "#            wrt_temp2.write(str(elem))\n",
    "#    wrt_temp2.write('\\n')\n",
    "#wrt_temp2.close()"
   ]
  },
  {
   "cell_type": "markdown",
   "metadata": {},
   "source": [
    "### 3) Read Data "
   ]
  },
  {
   "cell_type": "code",
   "execution_count": 5,
   "metadata": {
    "collapsed": false
   },
   "outputs": [],
   "source": [
    "# Read\n",
    "mt_keys = np.arange(170.84, 170.86 ,0.001)\n",
    "xi_keys = np.arange(10, 100, 10)\n",
    "for xi in xi_keys:\n",
    "    in_temp = open('170.849_'+str(xi)+'_lamb.csv', 'r')\n",
    "    TP = [line.split(',') for line in in_temp]\n",
    "    for obj in TP:\n",
    "        del(obj[len(obj)-1])\n",
    "    locals()['lH_'+str(xi)] = [float(elem) for elem in TP[0]]\n",
    "    locals()['g1_'+str(xi)] = [float(elem) for elem in TP[1]]\n",
    "    locals()['g2_'+str(xi)] = [float(elem) for elem in TP[2]]\n",
    "    locals()['g3_'+str(xi)] = [float(elem) for elem in TP[3]]\n",
    "    locals()['yt_'+str(xi)] = [float(elem) for elem in TP[4]]\n",
    "    locals()['t_'+str(xi)] = [float(elem) for elem in TP[5]]"
   ]
  },
  {
   "cell_type": "code",
   "execution_count": 6,
   "metadata": {
    "collapsed": true
   },
   "outputs": [],
   "source": [
    "plt.rc('text', usetex=True)\n",
    "plt.rc('font', family='serif')"
   ]
  },
  {
   "cell_type": "markdown",
   "metadata": {},
   "source": [
    "### 4) Running $\\lambda$ "
   ]
  },
  {
   "cell_type": "code",
   "execution_count": 10,
   "metadata": {
    "collapsed": true
   },
   "outputs": [],
   "source": [
    "xi_keys = [10, 50, 90]"
   ]
  },
  {
   "cell_type": "code",
   "execution_count": 17,
   "metadata": {
    "collapsed": false
   },
   "outputs": [
    {
     "data": {
      "image/png": "[encoded data removed]",
      "text/plain": [
       "<matplotlib.figure.Figure at 0x7fb9bcef7470>"
      ]
     },
     "metadata": {},
     "output_type": "display_data"
    }
   ],
   "source": [
    "plt.figure(figsize=(10,6))\n",
    "for xi in xi_keys:\n",
    "    plt.plot(locals()['t_'+str(xi)], locals()['lH_'+str(xi)], label=r'$\\xi='+str(xi)+'$')\n",
    "plt.title(r'$M_t = 170.849GeV$', fontsize=16)\n",
    "plt.xlabel(r'$t=\\log(\\mu/M_t)$', fontsize=14)\n",
    "plt.ylabel(r'$\\lambda$', fontsize=14)\n",
    "plt.axis([34, 36, 0.0002, 0.0003])\n",
    "plt.legend(fontsize=14)\n",
    "plt.show()"
   ]
  },
  {
   "cell_type": "code",
   "execution_count": 15,
   "metadata": {
    "collapsed": false
   },
   "outputs": [
    {
     "name": "stdout",
     "output_type": "stream",
     "text": [
      "Minimum of xi = 10: 0.000217788404445\n",
      "Minimum of xi = 50: 0.00023438873715\n",
      "Minimum of xi = 90: 0.000242609541849\n"
     ]
    }
   ],
   "source": [
    "for xi in xi_keys:\n",
    "    min_10 = min(lH_10)\n",
    "    min_50 = min(lH_50)\n",
    "    min_90 = min(lH_90)\n",
    "print('Minimum of xi = 10:',min_10)\n",
    "print('Minimum of xi = 50:',min_50)\n",
    "print('Minimum of xi = 90:',min_90)"
   ]
  },
  {
   "cell_type": "markdown",
   "metadata": {},
   "source": [
    "### - Conclusion\n",
    "* Change $\\xi$ at $\\mathcal{O}(10)$ affects $10^{-5}$ of $\\lambda$"
   ]
  }
 ],
 "metadata": {
  "kernelspec": {
   "display_name": "Python 3",
   "language": "python",
   "name": "python3"
  },
  "language_info": {
   "codemirror_mode": {
    "name": "ipython",
    "version": 3
   },
   "file_extension": ".py",
   "mimetype": "text/x-python",
   "name": "python",
   "nbconvert_exporter": "python",
   "pygments_lexer": "ipython3",
   "version": "3.6.0"
  }
 },
 "nbformat": 4,
 "nbformat_minor": 2
}
